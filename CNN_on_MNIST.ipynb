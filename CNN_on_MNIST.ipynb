{
  "nbformat": 4,
  "nbformat_minor": 0,
  "metadata": {
    "colab": {
      "provenance": []
    },
    "kernelspec": {
      "name": "python3",
      "display_name": "Python 3"
    },
    "language_info": {
      "name": "python"
    }
  },
  "cells": [
    {
      "cell_type": "markdown",
      "source": [
        "In this project I will explore the MNIST dataset using a convolutional Neural Network and the Keras library in Tensorflow. ConvNNs are a powerful tool for image recognition. In a fully connected (FC) model, there can quickly become a large number of parameters. This can lead to high training costs, require lots of data, difficulties with optimization and overfitting. ConvNN can exploit the locality of data, and translation invariance of image data to reduce the number of parameters needed. In this model I will use a 3x3 convolution over the 28x28 image. This will be followed by flattening, a dense layer (with relu), and a final dense layer with a softmax activation function."
      ],
      "metadata": {
        "id": "wZ_udA-4e3Dd"
      }
    },
    {
      "cell_type": "markdown",
      "source": [
        "As the data is categorical by nature, sparse_categorical_crossentropy was selected as the loss function. the sparse option handles one-hot encoding of the batch within the loss method.\n",
        "\n",
        "$$ \\ell_w (x_i,y_i) = - \\sum^9_{i=0} y_i\\log(\\hat{y}_i) $$\n",
        "\n",
        "For the model Optimizer, I show to go with adam. This is considered a good starting choice for deep learning optimization. Adam incorporated both momentum and RMSProp (with bias correction) to enhance the learning rate of the model. Momentum keeps memory of previous gradients which may help the solution approach a minimization quicker.\n",
        "\n",
        "$$  v_t = \\gamma v_{t-1} + (1-\\gamma) \\eta $$\n",
        "\n",
        "RMSProp on the other hand is an adaptive learning rate that reduces the learning rate if big updates are occurring to a parameter, and increase the learning rate if few updates are occurring.\n",
        "$$\n",
        "\\theta_{t,i} = \\theta_{t-1,i} - \\frac{\\eta}{\\sqrt{G_{t,i}+\\epsilon}}g_{t,i}\n",
        "$$\n",
        "with:\n",
        "$$\n",
        " G_t,i = \\beta G_{t-1,i} + (1-\\beta) g_{t,i}^2\n",
        "$$\n",
        "\n",
        "In this model I acheived an accuracy of 98.2% on the test set.\n"
      ],
      "metadata": {
        "id": "sucGk-JMggof"
      }
    },
    {
      "cell_type": "code",
      "execution_count": 1,
      "metadata": {
        "id": "Xr7ylGk4amm2"
      },
      "outputs": [],
      "source": [
        "import tensorflow as tf\n",
        "import matplotlib.pyplot as plt"
      ]
    },
    {
      "cell_type": "code",
      "source": [
        "#load data from tensorflow\n",
        "mnist = tf.keras.datasets.mnist\n",
        "(x_train, y_train), (x_test, y_test) = mnist.load_data()"
      ],
      "metadata": {
        "colab": {
          "base_uri": "https://localhost:8080/"
        },
        "id": "JE2HN990apgO",
        "outputId": "4f6fb0ab-7dc5-4b6f-d51b-4dc9eb230ce5"
      },
      "execution_count": 2,
      "outputs": [
        {
          "output_type": "stream",
          "name": "stdout",
          "text": [
            "Downloading data from https://storage.googleapis.com/tensorflow/tf-keras-datasets/mnist.npz\n",
            "11490434/11490434 [==============================] - 0s 0us/step\n"
          ]
        }
      ]
    },
    {
      "cell_type": "code",
      "source": [
        "#visualizing the data\n",
        "print(len(x_train))\n",
        "print(len(x_test))\n",
        "plt.imshow(x_train[2], cmap='gray')"
      ],
      "metadata": {
        "colab": {
          "base_uri": "https://localhost:8080/",
          "height": 482
        },
        "id": "Bpc_8iceasGr",
        "outputId": "b8f51916-20af-4f57-a292-72e6b10616ff"
      },
      "execution_count": 3,
      "outputs": [
        {
          "output_type": "stream",
          "name": "stdout",
          "text": [
            "60000\n",
            "10000\n"
          ]
        },
        {
          "output_type": "execute_result",
          "data": {
            "text/plain": [
              "<matplotlib.image.AxesImage at 0x7bda4a289fc0>"
            ]
          },
          "metadata": {},
          "execution_count": 3
        },
        {
          "output_type": "display_data",
          "data": {
            "text/plain": [
              "<Figure size 640x480 with 1 Axes>"
            ],
            "image/png": "[encoded data removed]"
          },
          "metadata": {}
        }
      ]
    },
    {
      "cell_type": "code",
      "source": [
        "#normalize the data to between 0 and 1\n",
        "x_train, x_test = x_train / 255, x_test /255\n",
        "\n",
        "#reshape data to 3D array for convolution\n",
        "x_train = x_train[..., tf.newaxis]\n",
        "x_test = x_test[..., tf.newaxis]"
      ],
      "metadata": {
        "id": "mzimEMnMaukj"
      },
      "execution_count": 4,
      "outputs": []
    },
    {
      "cell_type": "code",
      "source": [
        "#building the model with a convolution, flatten layer, dense layer, and output softmax layer\n",
        "model = tf.keras.models.Sequential([\n",
        "   tf.keras.layers.Conv2D(32, 3, activation='relu'),\n",
        "   tf.keras.layers.Flatten(),\n",
        "   tf.keras.layers.Dense(128, activation='relu'),\n",
        "   tf.keras.layers.Dense(10, activation='softmax'),\n",
        "])\n"
      ],
      "metadata": {
        "id": "wbX0yFKuaxoA"
      },
      "execution_count": 5,
      "outputs": []
    },
    {
      "cell_type": "code",
      "source": [
        "#setting optimizer and loss funciton for model\n",
        "model.compile(optimizer='adam', loss='sparse_categorical_crossentropy', metrics=['accuracy'])"
      ],
      "metadata": {
        "id": "hKG-x2MMax59"
      },
      "execution_count": 6,
      "outputs": []
    },
    {
      "cell_type": "code",
      "source": [
        "#Training the model\n",
        "model.fit(x_train, y_train, epochs=5)\n",
        "model.evaluate(x_test, y_test, verbose=2)"
      ],
      "metadata": {
        "colab": {
          "base_uri": "https://localhost:8080/"
        },
        "id": "WLVXXf8rbMjN",
        "outputId": "51d4a3bc-1b1f-4443-f8bc-06113d78dbdd"
      },
      "execution_count": 7,
      "outputs": [
        {
          "output_type": "stream",
          "name": "stdout",
          "text": [
            "Epoch 1/5\n",
            "1875/1875 [==============================] - 113s 59ms/step - loss: 0.1401 - accuracy: 0.9576\n",
            "Epoch 2/5\n",
            "1875/1875 [==============================] - 104s 55ms/step - loss: 0.0401 - accuracy: 0.9876\n",
            "Epoch 3/5\n",
            "1875/1875 [==============================] - 98s 52ms/step - loss: 0.0217 - accuracy: 0.9930\n",
            "Epoch 4/5\n",
            "1875/1875 [==============================] - 96s 51ms/step - loss: 0.0109 - accuracy: 0.9964\n",
            "Epoch 5/5\n",
            "1875/1875 [==============================] - 95s 51ms/step - loss: 0.0096 - accuracy: 0.9969\n",
            "313/313 - 4s - loss: 0.0695 - accuracy: 0.9823 - 4s/epoch - 13ms/step\n"
          ]
        },
        {
          "output_type": "execute_result",
          "data": {
            "text/plain": [
              "[0.06947078555822372, 0.9822999835014343]"
            ]
          },
          "metadata": {},
          "execution_count": 7
        }
      ]
    }
  ]
}